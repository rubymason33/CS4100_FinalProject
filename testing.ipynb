{
 "cells": [
  {
   "cell_type": "code",
   "execution_count": 13,
   "metadata": {},
   "outputs": [],
   "source": [
    "import pandas as pd\n",
    "import numpy as np\n",
    "from collections import Counter"
   ]
  },
  {
   "cell_type": "code",
   "execution_count": 14,
   "metadata": {},
   "outputs": [],
   "source": [
    "FILE_PATH = \"sudoku_datasets/sudoku_medium.csv\""
   ]
  },
  {
   "cell_type": "code",
   "execution_count": 15,
   "metadata": {},
   "outputs": [],
   "source": [
    "df = pd.read_csv(FILE_PATH)\n"
   ]
  },
  {
   "cell_type": "code",
   "execution_count": 16,
   "metadata": {},
   "outputs": [
    {
     "data": {
      "text/html": [
       "<div>\n",
       "<style scoped>\n",
       "    .dataframe tbody tr th:only-of-type {\n",
       "        vertical-align: middle;\n",
       "    }\n",
       "\n",
       "    .dataframe tbody tr th {\n",
       "        vertical-align: top;\n",
       "    }\n",
       "\n",
       "    .dataframe thead th {\n",
       "        text-align: right;\n",
       "    }\n",
       "</style>\n",
       "<table border=\"1\" class=\"dataframe\">\n",
       "  <thead>\n",
       "    <tr style=\"text-align: right;\">\n",
       "      <th></th>\n",
       "      <th>id</th>\n",
       "      <th>puzzle</th>\n",
       "      <th>solution</th>\n",
       "      <th>clues</th>\n",
       "      <th>difficulty</th>\n",
       "    </tr>\n",
       "  </thead>\n",
       "  <tbody>\n",
       "    <tr>\n",
       "      <th>0</th>\n",
       "      <td>2102185</td>\n",
       "      <td>......4.64....8.2..5.23...........8.2.79...3.1...</td>\n",
       "      <td>8327914564196587237562348916453721892879156341...</td>\n",
       "      <td>24</td>\n",
       "      <td>3.1</td>\n",
       "    </tr>\n",
       "    <tr>\n",
       "      <th>1</th>\n",
       "      <td>1226863</td>\n",
       "      <td>6..........31.7.....8..4.1214.52..7.......9......</td>\n",
       "      <td>6158924374231678957983546121495283765326719488...</td>\n",
       "      <td>25</td>\n",
       "      <td>3.1</td>\n",
       "    </tr>\n",
       "    <tr>\n",
       "      <th>2</th>\n",
       "      <td>712724</td>\n",
       "      <td>.....539.75..2....6....8..4....9.6..8....3.......</td>\n",
       "      <td>2816453977543291866397182541258946738672539414...</td>\n",
       "      <td>22</td>\n",
       "      <td>3.1</td>\n",
       "    </tr>\n",
       "    <tr>\n",
       "      <th>3</th>\n",
       "      <td>2866334</td>\n",
       "      <td>8.6..73.9......12...9.......3.5....2..8.74.......</td>\n",
       "      <td>8162573493458691272793416854375189626289745135...</td>\n",
       "      <td>24</td>\n",
       "      <td>3.1</td>\n",
       "    </tr>\n",
       "    <tr>\n",
       "      <th>4</th>\n",
       "      <td>1566135</td>\n",
       "      <td>.5.3......31.257..7..98..1.94.5..2...8....15.....</td>\n",
       "      <td>4593716828316257947269843159435182762874961531...</td>\n",
       "      <td>26</td>\n",
       "      <td>3.1</td>\n",
       "    </tr>\n",
       "  </tbody>\n",
       "</table>\n",
       "</div>"
      ],
      "text/plain": [
       "        id                                             puzzle  \\\n",
       "0  2102185  ......4.64....8.2..5.23...........8.2.79...3.1...   \n",
       "1  1226863  6..........31.7.....8..4.1214.52..7.......9......   \n",
       "2   712724  .....539.75..2....6....8..4....9.6..8....3.......   \n",
       "3  2866334  8.6..73.9......12...9.......3.5....2..8.74.......   \n",
       "4  1566135  .5.3......31.257..7..98..1.94.5..2...8....15.....   \n",
       "\n",
       "                                            solution  clues  difficulty  \n",
       "0  8327914564196587237562348916453721892879156341...     24         3.1  \n",
       "1  6158924374231678957983546121495283765326719488...     25         3.1  \n",
       "2  2816453977543291866397182541258946738672539414...     22         3.1  \n",
       "3  8162573493458691272793416854375189626289745135...     24         3.1  \n",
       "4  4593716828316257947269843159435182762874961531...     26         3.1  "
      ]
     },
     "execution_count": 16,
     "metadata": {},
     "output_type": "execute_result"
    }
   ],
   "source": [
    "df.head()"
   ]
  },
  {
   "cell_type": "code",
   "execution_count": 17,
   "metadata": {},
   "outputs": [],
   "source": [
    "puzzle1 = \"53..7....6..195....98....6.8...6...34..8.3..17...2...6....6...28....419..5....8..79\"\n",
    "puzzle2 = \"53..7....6..195....98....6.8...6...34..8.3..17...2...6....6...28....419..5....8..79\""
   ]
  },
  {
   "cell_type": "code",
   "execution_count": 18,
   "metadata": {},
   "outputs": [],
   "source": [
    "puzzle3 = \"53..7....6..195....98....6.8...6...34..8.3..17...2...6....6...28....419..5....8..71\"\n"
   ]
  },
  {
   "cell_type": "code",
   "execution_count": 19,
   "metadata": {},
   "outputs": [],
   "source": [
    "def similarity(puzz1, puzz2):\n",
    "    \"\"\"\n",
    "    takes in two puzzles and returns how many non . \"blanks\"\n",
    "    args:\n",
    "        puzz1: puzzle\n",
    "        puzz2: puzzle\n",
    "    returns:\n",
    "        similarity: similarity score number\n",
    "    \"\"\"\n",
    "    similarity = 0\n",
    "\n",
    "    for c1, c2 in zip(puzz1, puzz2):\n",
    "        if c1 != '.' and c1 == c2:\n",
    "            similarity += 1\n",
    "\n",
    "    return similarity"
   ]
  },
  {
   "cell_type": "code",
   "execution_count": 20,
   "metadata": {},
   "outputs": [
    {
     "name": "stdout",
     "output_type": "stream",
     "text": [
      "30\n"
     ]
    }
   ],
   "source": [
    "print(similarity(puzzle1, puzzle2))"
   ]
  },
  {
   "cell_type": "code",
   "execution_count": 21,
   "metadata": {},
   "outputs": [
    {
     "name": "stdout",
     "output_type": "stream",
     "text": [
      "29\n"
     ]
    }
   ],
   "source": [
    "print(similarity(puzzle1, puzzle3))"
   ]
  },
  {
   "cell_type": "code",
   "execution_count": 22,
   "metadata": {},
   "outputs": [],
   "source": [
    "def most_similar(query, dataset, k = 5):\n",
    "    \"\"\"\n",
    "    no more docstring lol\n",
    "    \"\"\"\n",
    "    # max_score = -1\n",
    "    # index_score = int()\n",
    "    scored_cases = list()\n",
    "\n",
    "\n",
    "    for idx, row in dataset.iterrows():\n",
    "        if row[\"puzzle\"] == query:\n",
    "            continue \n",
    "        score = similarity(query, row[\"puzzle\"])\n",
    "        scored_cases.append((idx, score))\n",
    "    \n",
    "    scored_cases.sort(key=lambda x: x[1], reverse=True)\n",
    "\n",
    "    best_cases = [idx for idx, _ in scored_cases[:k]]\n",
    "\n",
    "    return df.loc[best_cases]"
   ]
  },
  {
   "cell_type": "code",
   "execution_count": 23,
   "metadata": {},
   "outputs": [
    {
     "name": "stdout",
     "output_type": "stream",
     "text": [
      "          id                                             puzzle  \\\n",
      "147   368492  ..9.....76......5......1.4..8..691..4....5.......   \n",
      "168  1773230  ..4...1..6...9......9....48.......7..4.8..3.1....   \n",
      "184  1845669  .8...49...47..53....9....2.8..4..73...38..4......   \n",
      "668  1032665  56....3.43...9...5.......9.8..1...5......4..1....   \n",
      "910   131264  2.68..3..35..9......92.....83.4.........3....7...   \n",
      "\n",
      "                                              solution  clues  difficulty  \n",
      "147  2195438676438972515786213493874691254623157981...     23         3.2  \n",
      "168  5347281696821947357193562488635129749458673212...     25         3.2  \n",
      "184  6852349172479153683196875248964517321738264595...     26         3.2  \n",
      "668  5692173843824967157145386928461792532378549619...     26         3.8  \n",
      "910  2768143953586972141492537688314795266251384797...     27         4.6  \n"
     ]
    }
   ],
   "source": [
    "hi = most_similar(puzzle1, df)\n",
    "print(hi)"
   ]
  },
  {
   "cell_type": "code",
   "execution_count": 24,
   "metadata": {},
   "outputs": [],
   "source": [
    "def string_to_grid(puzzle: str):\n",
    "    return np.array(list(puzzle)).reshape(9,9)\n",
    "\n",
    "def valid_move(grid, row, col, num):\n",
    "    if num in grid[row, :]: \n",
    "        return False\n",
    "    if num in grid[:, col]: \n",
    "        return False\n",
    "    box_r, box_c = 3 * (row // 3), 3 * (col // 3)\n",
    "    if num in grid[box_r:box_r+3, box_c:box_c+3]: \n",
    "        return False\n",
    "    return True"
   ]
  },
  {
   "cell_type": "markdown",
   "metadata": {},
   "source": [
    "# voting resuse lowk realized this is not possible w cbr\n",
    "# need to implement another algo in addition so it works\n",
    "\n",
    "\n",
    "\n",
    "\n",
    "\n",
    "\n",
    "\n"
   ]
  }
 ],
 "metadata": {
  "kernelspec": {
   "display_name": "ds",
   "language": "python",
   "name": "python3"
  },
  "language_info": {
   "codemirror_mode": {
    "name": "ipython",
    "version": 3
   },
   "file_extension": ".py",
   "mimetype": "text/x-python",
   "name": "python",
   "nbconvert_exporter": "python",
   "pygments_lexer": "ipython3",
   "version": "3.12.2"
  }
 },
 "nbformat": 4,
 "nbformat_minor": 2
}
