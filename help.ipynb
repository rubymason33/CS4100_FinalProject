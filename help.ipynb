{
 "cells": [
  {
   "cell_type": "code",
   "execution_count": 20,
   "metadata": {},
   "outputs": [],
   "source": [
    "import numpy as np\n",
    "import pandas as pd\n",
    "import matplotlib.pyplot as plt\n",
    "from collections import Counter\n",
    "from itertools import combinations\n",
    "import time"
   ]
  },
  {
   "cell_type": "code",
   "execution_count": 21,
   "metadata": {},
   "outputs": [],
   "source": [
    "FILE_PATH_HARD = \"sudoku_datasets/sudoku_hard.csv\"\n",
    "FILE_PATH_MED = \"sudoku_datasets/sudoku_medium.csv\"\n",
    "FILE_PATH_EASY = \"sudoku_datasets/sudoku_easy.csv\""
   ]
  },
  {
   "cell_type": "code",
   "execution_count": null,
   "metadata": {},
   "outputs": [
    {
     "name": "stdout",
     "output_type": "stream",
     "text": [
      "Easy (k=5): Mean cell accuracy=0.365, Solved=14/1000\n",
      "Medium (k=5): Mean cell accuracy=0.319, Solved=0/1000\n",
      "Hard (k=5): Mean cell accuracy=0.302, Solved=0/1000\n"
     ]
    }
   ],
   "source": [
    "def puzzle_to_grid(puzzle_str):\n",
    "    return np.array([int(ch) if ch.isdigit() else 0 for ch in puzzle_str]).reshape(9, 9)\n",
    "\n",
    "def similarity_score(p1, p2):\n",
    "    return sum(a == b for a, b in zip(p1, p2))\n",
    "\n",
    "def get_top_k_weighted(query, df, k=5):\n",
    "    df_filtered = df[df['puzzle'] != query]\n",
    "    sims = df_filtered['puzzle'].apply(lambda p: similarity_score(query, p))\n",
    "    top_idx = sims.nlargest(k).index\n",
    "    return list(zip(df_filtered.loc[top_idx, 'solution'], sims.loc[top_idx]))\n",
    "\n",
    "def vote_weighted_prediction(query_puzzle, df, k=5):\n",
    "    return puzzle_to_grid(query_puzzle), puzzle_to_grid(query_puzzle), get_top_k_weighted(query_puzzle, df, k)\n",
    "\n",
    "def clear_all_votes(grid, original_grid):\n",
    "    grid[original_grid == 0] = 0\n",
    "    return grid\n",
    "\n",
    "def is_valid(grid, r, c, num):\n",
    "    if num in grid[r, :] or num in grid[:, c]:\n",
    "        return False\n",
    "    br, bc = 3*(r//3), 3*(c//3)\n",
    "    return num not in grid[br:br+3, bc:bc+3]\n",
    "\n",
    "def refine_with_constraints(grid):\n",
    "    changed = True\n",
    "    while changed:\n",
    "        changed = False\n",
    "        for i in range(9):\n",
    "            for j in range(9):\n",
    "                if grid[i, j] == 0:\n",
    "                    candidates = [n for n in range(1, 10) if is_valid(grid, i, j, n)]\n",
    "                    if len(candidates) == 1:\n",
    "                        grid[i, j] = candidates[0]\n",
    "                        changed = True\n",
    "    return grid\n",
    "\n",
    "def get_candidates(grid):\n",
    "    cands = {}\n",
    "    for i in range(9):\n",
    "        for j in range(9):\n",
    "            if grid[i, j] == 0:\n",
    "                cands[(i, j)] = {n for n in range(1, 10) if is_valid(grid, i, j, n)}\n",
    "    return cands\n",
    "\n",
    "def apply_naked_twins(grid):\n",
    "    cands = get_candidates(grid)\n",
    "    units = []\n",
    "    for i in range(9):\n",
    "        units.append([(i, j) for j in range(9)])\n",
    "        units.append([(j, i) for j in range(9)])\n",
    "    for bi in range(3):\n",
    "        for bj in range(3):\n",
    "            units.append([(3*bi + i, 3*bj + j) for i in range(3) for j in range(3)])\n",
    "    for unit in units:\n",
    "        twins = [(u, cands[u]) for u in unit if u in cands and len(cands[u]) == 2]\n",
    "        for (a, ca), (b, cb) in combinations(twins, 2):\n",
    "            if ca == cb:\n",
    "                for u in unit:\n",
    "                    if u not in (a, b) and u in cands:\n",
    "                        cands[u] -= ca\n",
    "    for (i, j), cand in cands.items():\n",
    "        if len(cand) == 1:\n",
    "            grid[i, j] = cand.pop()\n",
    "    return grid\n",
    "\n",
    "def solve_sudoku_cbr_weighted_clear(query_puzzle, df, k=5):\n",
    "    original_grid = puzzle_to_grid(query_puzzle)\n",
    "    # Vote fill\n",
    "    grid = original_grid.copy()\n",
    "    top_cases = get_top_k_weighted(query_puzzle, df, k)\n",
    "    for i in range(9):\n",
    "        for j in range(9):\n",
    "            if grid[i, j] == 0:\n",
    "                bucket = []\n",
    "                for sol_str, sim in top_cases:\n",
    "                    digit = int(sol_str[i*9 + j])\n",
    "                    bucket.extend([digit] * sim)\n",
    "                if bucket:\n",
    "                    grid[i, j] = Counter(bucket).most_common(1)[0][0]\n",
    "    grid = clear_all_votes(grid, original_grid)\n",
    "    grid = refine_with_constraints(grid)\n",
    "    grid = apply_naked_twins(grid)\n",
    "    return ''.join(str(x) for x in grid.flatten())\n",
    "\n",
    "df_easy = pd.read_csv(FILE_PATH_EASY)\n",
    "df_med  = pd.read_csv(FILE_PATH_MED)\n",
    "df_hard = pd.read_csv(FILE_PATH_HARD)\n",
    "df_all  = pd.concat([df_easy, df_med, df_hard], ignore_index=True)\n",
    "\n",
    "k = 5\n",
    "for name, df_sub in [('Easy', df_easy), ('Medium', df_med), ('Hard', df_hard)]:\n",
    "    solved = 0\n",
    "    total = len(df_sub)\n",
    "    acc_sum = 0\n",
    "    for puzzle, solution in zip(df_sub['puzzle'], df_sub['solution']):\n",
    "        pred = solve_sudoku_cbr_weighted_clear(puzzle, df_all, k)\n",
    "        correct = sum(a == b for a, b in zip(pred, solution))\n",
    "        acc_sum += correct\n",
    "        if correct == 81:\n",
    "            solved += 1\n",
    "    print(f\"{name} (k={k}): Mean cell accuracy={acc_sum/(total*81):.3f}, Solved={solved}/{total}\")\n"
   ]
  },
  {
   "cell_type": "code",
   "execution_count": 54,
   "metadata": {},
   "outputs": [],
   "source": [
    "df_easy = pd.read_csv(FILE_PATH_EASY)\n",
    "df_med  = pd.read_csv(FILE_PATH_MED)\n",
    "df_hard = pd.read_csv(FILE_PATH_HARD)\n",
    "df_all  = pd.concat([df_easy, df_med, df_hard], ignore_index=True)\n",
    "\n",
    "k = 5  \n",
    "\n",
    "def evaluate_solver(df_sub, df_casebase, solver_fn, k):\n",
    "    total = len(df_sub)\n",
    "    accs = []\n",
    "    solved_count = 0\n",
    "    start = time.time()\n",
    "    for puzzle, solution in zip(df_sub['puzzle'], df_sub['solution']):\n",
    "        pred = solver_fn(puzzle, df_casebase, k)\n",
    "        correct = sum(a == b for a, b in zip(pred, solution))\n",
    "        accs.append(correct / 81)\n",
    "        if correct == 81:\n",
    "            solved_count += 1\n",
    "    duration = time.time() - start\n",
    "    return {\n",
    "        'MeanAcc': np.mean(accs),\n",
    "        'PctSolved': solved_count / total * 100,\n",
    "        'TimePerPuzzle': duration / total,\n",
    "        'SolvedCount': solved_count,\n",
    "        'Total': total\n",
    "    }\n",
    "\n",
    "results = []\n",
    "for name, df_sub in [('Easy', df_easy), ('Medium', df_med), ('Hard', df_hard)]:\n",
    "    stats = evaluate_solver(df_sub, df_all, solve_sudoku_cbr_weighted_clear, k)\n",
    "    stats['Dataset'] = name\n",
    "    stats['k'] = k\n",
    "    results.append(stats)\n",
    "\n",
    "results_df = pd.DataFrame(results)[['Dataset', 'k', 'MeanAcc', 'PctSolved', 'TimePerPuzzle', 'SolvedCount', 'Total']]\n",
    "\n"
   ]
  },
  {
   "cell_type": "code",
   "execution_count": 55,
   "metadata": {},
   "outputs": [
    {
     "data": {
      "text/html": [
       "<div>\n",
       "<style scoped>\n",
       "    .dataframe tbody tr th:only-of-type {\n",
       "        vertical-align: middle;\n",
       "    }\n",
       "\n",
       "    .dataframe tbody tr th {\n",
       "        vertical-align: top;\n",
       "    }\n",
       "\n",
       "    .dataframe thead th {\n",
       "        text-align: right;\n",
       "    }\n",
       "</style>\n",
       "<table border=\"1\" class=\"dataframe\">\n",
       "  <thead>\n",
       "    <tr style=\"text-align: right;\">\n",
       "      <th></th>\n",
       "      <th>Dataset</th>\n",
       "      <th>k</th>\n",
       "      <th>MeanAcc</th>\n",
       "      <th>PctSolved</th>\n",
       "      <th>TimePerPuzzle</th>\n",
       "      <th>SolvedCount</th>\n",
       "      <th>Total</th>\n",
       "    </tr>\n",
       "  </thead>\n",
       "  <tbody>\n",
       "    <tr>\n",
       "      <th>0</th>\n",
       "      <td>Easy</td>\n",
       "      <td>5</td>\n",
       "      <td>0.364815</td>\n",
       "      <td>1.4</td>\n",
       "      <td>0.016791</td>\n",
       "      <td>14</td>\n",
       "      <td>1000</td>\n",
       "    </tr>\n",
       "    <tr>\n",
       "      <th>1</th>\n",
       "      <td>Medium</td>\n",
       "      <td>5</td>\n",
       "      <td>0.318691</td>\n",
       "      <td>0.0</td>\n",
       "      <td>0.015378</td>\n",
       "      <td>0</td>\n",
       "      <td>1000</td>\n",
       "    </tr>\n",
       "    <tr>\n",
       "      <th>2</th>\n",
       "      <td>Hard</td>\n",
       "      <td>5</td>\n",
       "      <td>0.301506</td>\n",
       "      <td>0.0</td>\n",
       "      <td>0.015355</td>\n",
       "      <td>0</td>\n",
       "      <td>1000</td>\n",
       "    </tr>\n",
       "  </tbody>\n",
       "</table>\n",
       "</div>"
      ],
      "text/plain": [
       "  Dataset  k   MeanAcc  PctSolved  TimePerPuzzle  SolvedCount  Total\n",
       "0    Easy  5  0.364815        1.4       0.016791           14   1000\n",
       "1  Medium  5  0.318691        0.0       0.015378            0   1000\n",
       "2    Hard  5  0.301506        0.0       0.015355            0   1000"
      ]
     },
     "execution_count": 55,
     "metadata": {},
     "output_type": "execute_result"
    }
   ],
   "source": [
    "results_df"
   ]
  },
  {
   "cell_type": "code",
   "execution_count": 48,
   "metadata": {},
   "outputs": [
    {
     "data": {
      "image/png": "[encoded data removed]",
      "text/plain": [
       "<Figure size 640x480 with 1 Axes>"
      ]
     },
     "metadata": {},
     "output_type": "display_data"
    }
   ],
   "source": [
    "\n",
    "plt.bar(results_df['Dataset'], results_df['PctSolved'], color=['C0','C1','C2'])\n",
    "plt.ylabel('Percent Solved (%)')\n",
    "plt.title(f'Fully Solved % by Difficulty (k={k})')\n",
    "plt.ylim(0, 100)\n",
    "plt.show()"
   ]
  },
  {
   "cell_type": "code",
   "execution_count": 50,
   "metadata": {},
   "outputs": [
    {
     "data": {
      "image/png": "[encoded data removed]",
      "text/plain": [
       "<Figure size 640x480 with 1 Axes>"
      ]
     },
     "metadata": {},
     "output_type": "display_data"
    }
   ],
   "source": [
    "\n",
    "plt.bar(results_df['Dataset'], results_df['MeanAcc'], color=['C0','C1','C2'])\n",
    "plt.ylabel('Mean Cell Accuracy')\n",
    "plt.title(f'Mean Accuracy per cell Difficulty (k={k})')\n",
    "plt.ylim(0, 1)\n",
    "plt.show()"
   ]
  }
 ],
 "metadata": {
  "kernelspec": {
   "display_name": "ds",
   "language": "python",
   "name": "python3"
  },
  "language_info": {
   "codemirror_mode": {
    "name": "ipython",
    "version": 3
   },
   "file_extension": ".py",
   "mimetype": "text/x-python",
   "name": "python",
   "nbconvert_exporter": "python",
   "pygments_lexer": "ipython3",
   "version": "3.12.2"
  }
 },
 "nbformat": 4,
 "nbformat_minor": 2
}
