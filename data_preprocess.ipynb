{
 "cells": [
  {
   "cell_type": "code",
   "execution_count": 15,
   "metadata": {},
   "outputs": [
    {
     "name": "stdout",
     "output_type": "stream",
     "text": [
      "Dataset URL: https://www.kaggle.com/datasets/radcliffe/3-million-sudoku-puzzles-with-ratings\n",
      "Dataset downloaded to: sudoku_datasets\n"
     ]
    }
   ],
   "source": [
    "import kaggle\n",
    "import zipfile\n",
    "import os\n",
    "\n",
    "# download the dataset\n",
    "kaggle.api.dataset_download_files(\"radcliffe/3-million-sudoku-puzzles-with-ratings\", path=\"sudoku_datasets\", unzip=False)\n",
    "\n",
    "print(\"Dataset downloaded to: sudoku_datasets\")\n"
   ]
  },
  {
   "cell_type": "code",
   "execution_count": 2,
   "metadata": {},
   "outputs": [],
   "source": [
    "import pandas as pd\n",
    "import zipfile\n"
   ]
  },
  {
   "cell_type": "code",
   "execution_count": 17,
   "metadata": {},
   "outputs": [],
   "source": [
    "zip_path = 'sudoku_datasets/3-million-sudoku-puzzles-with-ratings.zip'\n",
    "\n",
    "with zipfile.ZipFile(zip_path, 'r') as z:\n",
    "    csv_name = [name for name in z.namelist() if name.endswith('.csv')][0]"
   ]
  },
  {
   "cell_type": "code",
   "execution_count": 18,
   "metadata": {},
   "outputs": [],
   "source": [
    "easy_rows = []\n",
    "medium_rows = []\n",
    "hard_rows = []\n",
    "\n",
    "sample_size = 1000\n",
    "chunk_size = 100000\n"
   ]
  },
  {
   "cell_type": "code",
   "execution_count": 19,
   "metadata": {},
   "outputs": [],
   "source": [
    "with zipfile.ZipFile(zip_path) as z:\n",
    "    with z.open(csv_name) as f:\n",
    "        for chunk in pd.read_csv(f, chunksize=chunk_size):\n",
    "            easy_rows.append(chunk[(chunk['difficulty'] >= 0) & (chunk['difficulty'] <= 3)])\n",
    "            medium_rows.append(chunk[(chunk['difficulty'] > 3) & (chunk['difficulty'] <= 6)])\n",
    "            hard_rows.append(chunk[(chunk['difficulty'] > 6)])"
   ]
  },
  {
   "cell_type": "code",
   "execution_count": 20,
   "metadata": {},
   "outputs": [],
   "source": [
    "easy_df = pd.concat(easy_rows, ignore_index=True).sample(n=sample_size, random_state=42)\n",
    "medium_df = pd.concat(medium_rows, ignore_index=True).sample(n=sample_size, random_state=42)\n",
    "hard_df = pd.concat(hard_rows, ignore_index=True).sample(n=sample_size, random_state=42)\n",
    "\n",
    "easy_df = easy_df.sort_values(by='difficulty')\n",
    "medium_df = medium_df.sort_values(by='difficulty')\n",
    "hard_df = hard_df.sort_values(by='difficulty')"
   ]
  },
  {
   "cell_type": "code",
   "execution_count": 22,
   "metadata": {},
   "outputs": [],
   "source": [
    "# save to csvs\n",
    "easy_df.to_csv('sudoku_datasets/sudoku_easy.csv', index=False)\n",
    "medium_df.to_csv('sudoku_datasets/sudoku_medium.csv', index=False)\n",
    "hard_df.to_csv('sudoku_datasets/sudoku_hard.csv', index=False)"
   ]
  },
  {
   "cell_type": "code",
   "execution_count": null,
   "metadata": {},
   "outputs": [],
   "source": []
  }
 ],
 "metadata": {
  "kernelspec": {
   "display_name": "ai",
   "language": "python",
   "name": "python3"
  },
  "language_info": {
   "codemirror_mode": {
    "name": "ipython",
    "version": 3
   },
   "file_extension": ".py",
   "mimetype": "text/x-python",
   "name": "python",
   "nbconvert_exporter": "python",
   "pygments_lexer": "ipython3",
   "version": "3.13.2"
  }
 },
 "nbformat": 4,
 "nbformat_minor": 2
}
